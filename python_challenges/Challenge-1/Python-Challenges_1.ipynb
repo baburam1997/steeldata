{
 "cells": [
  {
   "cell_type": "markdown",
   "metadata": {},
   "source": [
    "    Beginner"
   ]
  },
  {
   "cell_type": "markdown",
   "metadata": {},
   "source": [
    "1. Write a function that takes two integers as input and returns their sum."
   ]
  },
  {
   "cell_type": "code",
   "execution_count": 2,
   "metadata": {},
   "outputs": [
    {
     "data": {
      "text/plain": [
       "9"
      ]
     },
     "execution_count": 2,
     "metadata": {},
     "output_type": "execute_result"
    }
   ],
   "source": [
    "def sum(number1: int, number2: int) -> int:\n",
    "    return number1 + number2\n",
    "\n",
    "sum(number1=5, number2=4)"
   ]
  },
  {
   "cell_type": "markdown",
   "metadata": {},
   "source": [
    "2. Write a function that takes a string as input and returns the string in reverse order.\n",
    "\t"
   ]
  },
  {
   "cell_type": "code",
   "execution_count": 6,
   "metadata": {},
   "outputs": [
    {
     "data": {
      "text/plain": [
       "'ahtserhSmarubab'"
      ]
     },
     "execution_count": 6,
     "metadata": {},
     "output_type": "execute_result"
    }
   ],
   "source": [
    "def reverse_string(first_string: str ) -> str:\n",
    "    return (first_string[::-1])\n",
    "\n",
    "reverse_string(first_string=\"baburamShrestha\")"
   ]
  },
  {
   "cell_type": "markdown",
   "metadata": {},
   "source": [
    "3. Write a function that takes a list of numbers and returns the sum of all the numbers in the list.\n",
    "\t"
   ]
  },
  {
   "cell_type": "code",
   "execution_count": 8,
   "metadata": {},
   "outputs": [
    {
     "data": {
      "text/plain": [
       "112"
      ]
     },
     "execution_count": 8,
     "metadata": {},
     "output_type": "execute_result"
    }
   ],
   "source": [
    "def sum_of_list(number_list: list[int]) -> int :\n",
    "    sum = 0\n",
    "    for number in number_list:\n",
    "        sum += number\n",
    "    return sum\n",
    "\n",
    "sum_of_list(number_list=[3,4,56,7,-6,54,-4,-4,2])"
   ]
  },
  {
   "cell_type": "markdown",
   "metadata": {},
   "source": [
    "4. Write a function that takes a list of strings and returns a new list containing the length of each string."
   ]
  },
  {
   "cell_type": "code",
   "execution_count": 9,
   "metadata": {},
   "outputs": [
    {
     "data": {
      "text/plain": [
       "[7, 12, 8, 7]"
      ]
     },
     "execution_count": 9,
     "metadata": {},
     "output_type": "execute_result"
    }
   ],
   "source": [
    "def string_length(string_list: list[str]) -> list[int]:\n",
    "    length_of_string =[]\n",
    "    for string in string_list:\n",
    "        length_of_string.append(len(string))\n",
    "    return length_of_string\n",
    "\n",
    "string_list =['hanuman', 'shreekrishna', 'shreeram', 'jackson']\n",
    "string_length(string_list=string_list)"
   ]
  },
  {
   "cell_type": "markdown",
   "metadata": {},
   "source": [
    "    Intermediate"
   ]
  },
  {
   "cell_type": "markdown",
   "metadata": {},
   "source": [
    "1. Write a function that takes a list of integers and returns the second largest number in the list."
   ]
  },
  {
   "cell_type": "code",
   "execution_count": 12,
   "metadata": {},
   "outputs": [
    {
     "data": {
      "text/plain": [
       "8"
      ]
     },
     "execution_count": 12,
     "metadata": {},
     "output_type": "execute_result"
    }
   ],
   "source": [
    "def second_largest_item(number_list: list[int]) -> int:\n",
    "    number_list.sort()\n",
    "    return number_list[-2]\n",
    "\n",
    "number_list = [2,4,5,7,3,5,8,9,5,4,5]\n",
    "second_largest_item(number_list=number_list)"
   ]
  },
  {
   "cell_type": "code",
   "execution_count": 15,
   "metadata": {},
   "outputs": [
    {
     "data": {
      "text/plain": [
       "8"
      ]
     },
     "execution_count": 15,
     "metadata": {},
     "output_type": "execute_result"
    }
   ],
   "source": [
    "def second_largest_item(number_list: list[int]) -> int:\n",
    "    number_list.sort(reverse=True)\n",
    "    return number_list[1]\n",
    "\n",
    "number_list = [2,4,5,7,3,5,8,9,5,4,5]\n",
    "second_largest_item(number_list=number_list)"
   ]
  },
  {
   "cell_type": "markdown",
   "metadata": {},
   "source": [
    "2. Write a function that takes a list of integers and returns a new list containing only the prime numbers in the list."
   ]
  },
  {
   "cell_type": "code",
   "execution_count": 26,
   "metadata": {},
   "outputs": [
    {
     "data": {
      "text/plain": [
       "[2, 5, 7, 3, 5, 5, 5, 8.9]"
      ]
     },
     "execution_count": 26,
     "metadata": {},
     "output_type": "execute_result"
    }
   ],
   "source": [
    "def is_prime(number:int) -> int:\n",
    "    if number < 1:\n",
    "        return None\n",
    "    for i in range(2, int(number**0.5) + 1):\n",
    "        if number % i == 0:\n",
    "            return None\n",
    "    return number\n",
    "\n",
    "def prime_number_finding(number_list: list[int]) -> list[int]:\n",
    "    prime_number_list =[]\n",
    "    for number in number_list:\n",
    "        prime_number = is_prime(number=number)\n",
    "        if prime_number != None:\n",
    "            prime_number_list.append(prime_number)\n",
    "    return prime_number_list\n",
    "        \n",
    "\n",
    "number_list = [2,4,5,7,3,5,8,9,5,4,5,4,8.9]\n",
    "prime_number_finding(number_list=number_list)"
   ]
  },
  {
   "cell_type": "markdown",
   "metadata": {},
   "source": [
    "3. Write a function that takes two lists of integers and returns a new list containing the elements that are common to both lists."
   ]
  },
  {
   "cell_type": "code",
   "execution_count": 28,
   "metadata": {},
   "outputs": [
    {
     "data": {
      "text/plain": [
       "[3, 4, 5, 8]"
      ]
     },
     "execution_count": 28,
     "metadata": {},
     "output_type": "execute_result"
    }
   ],
   "source": [
    "def find_common_elements(number_list1: list[int], number_list2: list[int]) -> list[int]:\n",
    "    common_elements = []\n",
    "    for item in number_list1:\n",
    "        if item in number_list2:\n",
    "            common_elements.append(item)\n",
    "    return common_elements\n",
    "\n",
    "number_list1 = [1, 2, 3, 4, 5,8,9]\n",
    "number_list2 = [3, 4, 5, 6, 7,8]\n",
    "find_common_elements(number_list1=number_list1,number_list2 = number_list2)\n"
   ]
  },
  {
   "cell_type": "markdown",
   "metadata": {},
   "source": [
    "    Advanced"
   ]
  },
  {
   "cell_type": "markdown",
   "metadata": {},
   "source": [
    "1. Create a text-based adventure game that uses ASCII art"
   ]
  },
  {
   "cell_type": "code",
   "execution_count": null,
   "metadata": {},
   "outputs": [],
   "source": [
    "cave_ascii_art = \"\"\"\n",
    "        /\\\\\n",
    "       /  \\\\\n",
    "      /    \\\\\n",
    "     /      \\\\\n",
    "     |      |\n",
    "     |______|\n",
    "    /        \\\\\n",
    "   /          \\\\\n",
    "   |  _____   |\n",
    "   |  | . |   |\n",
    "   |__|_._|___|\n",
    "\"\"\"\n",
    "\n",
    "def game():\n",
    "    print(\"You find yourself standing outside a dark cave.\")\n",
    "    print(cave_ascii_art)\n",
    "\n",
    "    while True:\n",
    "        print(\"\\nWhat do you want to do?\")\n",
    "        print(\"1. Enter the cave\")\n",
    "        print(\"2. Walk away\")\n",
    "\n",
    "        choice = input(\"Enter the number of your choice: \")\n",
    "\n",
    "        if choice == \"1\":\n",
    "            print(\"You cautiously enter the cave.\")\n",
    "            # TODO: Add more parts of the game and interactions inside the cave.\n",
    "            break\n",
    "        elif choice == \"2\":\n",
    "            print(\"You decide not to enter the cave and walk away.\")\n",
    "            break\n",
    "        else:\n",
    "            print(\"Invalid choice. Please select again.\")\n",
    "\n",
    "if __name__ == \"__main__\":\n",
    "    game()"
   ]
  },
  {
   "cell_type": "code",
   "execution_count": null,
   "metadata": {},
   "outputs": [],
   "source": []
  }
 ],
 "metadata": {
  "kernelspec": {
   "display_name": "scraping",
   "language": "python",
   "name": "python3"
  },
  "language_info": {
   "codemirror_mode": {
    "name": "ipython",
    "version": 3
   },
   "file_extension": ".py",
   "mimetype": "text/x-python",
   "name": "python",
   "nbconvert_exporter": "python",
   "pygments_lexer": "ipython3",
   "version": "3.10.12"
  },
  "orig_nbformat": 4
 },
 "nbformat": 4,
 "nbformat_minor": 2
}
