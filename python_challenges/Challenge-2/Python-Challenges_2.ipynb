{
 "cells": [
  {
   "cell_type": "markdown",
   "metadata": {},
   "source": [
    "    Beginner"
   ]
  },
  {
   "cell_type": "markdown",
   "metadata": {},
   "source": [
    "1. Write a function that takes a string as input and returns the length of the string.\n"
   ]
  },
  {
   "cell_type": "code",
   "execution_count": 1,
   "metadata": {},
   "outputs": [
    {
     "data": {
      "text/plain": [
       "16"
      ]
     },
     "execution_count": 1,
     "metadata": {},
     "output_type": "execute_result"
    }
   ],
   "source": [
    "def string_length(string: str) -> int:\n",
    "    return len(string)\n",
    "\n",
    "string = 'Baburam Shrestha'\n",
    "string_length(string=string)"
   ]
  },
  {
   "cell_type": "markdown",
   "metadata": {},
   "source": [
    "2. Write a function that takes a list of integers as input and returns the maximum value in the list.\n",
    "\n",
    "\t"
   ]
  },
  {
   "cell_type": "code",
   "execution_count": 3,
   "metadata": {},
   "outputs": [
    {
     "data": {
      "text/plain": [
       "435"
      ]
     },
     "execution_count": 3,
     "metadata": {},
     "output_type": "execute_result"
    }
   ],
   "source": [
    "def max_value_in_list(number_list: list[int]) -> int:\n",
    "    return max(number_list)\n",
    "\n",
    "number_list =[3,4,6,7,8,5,5,7,82,435,67,56]\n",
    "max_value_in_list(number_list=number_list)"
   ]
  },
  {
   "cell_type": "markdown",
   "metadata": {},
   "source": [
    "3. Write a function that takes a float as input and rounds it to the nearest integer.\n",
    "\n",
    "\t"
   ]
  },
  {
   "cell_type": "code",
   "execution_count": 11,
   "metadata": {},
   "outputs": [
    {
     "data": {
      "text/plain": [
       "[3, 4, 6, 7, 8, 5, 5]"
      ]
     },
     "execution_count": 11,
     "metadata": {},
     "output_type": "execute_result"
    }
   ],
   "source": [
    "def round_float_to_integer(float_list: list[float]) -> list[int]:\n",
    "    return [int(value) for value in float_list]\n",
    "\n",
    "float_list = [3.54, 4.45, 6.3453, 7.5345, 8.44, 5.33, 5.6]\n",
    "round_float_to_integer(float_list=float_list)"
   ]
  },
  {
   "cell_type": "markdown",
   "metadata": {},
   "source": [
    "    Intermediate"
   ]
  },
  {
   "cell_type": "markdown",
   "metadata": {},
   "source": [
    "1. Write a function that takes a list of integers and returns a new list with only the unique values (no duplicates)."
   ]
  },
  {
   "cell_type": "code",
   "execution_count": 13,
   "metadata": {},
   "outputs": [
    {
     "data": {
      "text/plain": [
       "{3, 4, 5, 6, 7, 8, 56, 67, 82, 435}"
      ]
     },
     "execution_count": 13,
     "metadata": {},
     "output_type": "execute_result"
    }
   ],
   "source": [
    "def unique_value_from_list(number_list: list[int]) -> set[int]:\n",
    "    return set(number_list)\n",
    "\n",
    "number_list = [3, 4, 6, 7, 8, 5, 5, 7, 82, 435, 67, 56]\n",
    "unique_value_from_list(number_list=number_list)"
   ]
  },
  {
   "cell_type": "markdown",
   "metadata": {},
   "source": [
    "2. Write a function that takes a string as input and returns the number of vowels in the string."
   ]
  },
  {
   "cell_type": "code",
   "execution_count": 15,
   "metadata": {},
   "outputs": [
    {
     "data": {
      "text/plain": [
       "9"
      ]
     },
     "execution_count": 15,
     "metadata": {},
     "output_type": "execute_result"
    }
   ],
   "source": [
    "def count_vowels(input_string:str) -> int:\n",
    "    vowels = \"aeiouAEIOU\"\n",
    "    vowel_count = 0\n",
    "\n",
    "    for char in input_string:\n",
    "        if char in vowels:\n",
    "            vowel_count += 1\n",
    "\n",
    "    return vowel_count\n",
    "\n",
    "input_string = \"eswtfgsxbgvdfreeawiioosgbvdefr345rhgfgthdfhbdsfh\"\n",
    "count_vowels(input_string = input_string)"
   ]
  },
  {
   "cell_type": "markdown",
   "metadata": {},
   "source": [
    "3. Write a function that takes a list of integers and returns a new list with the elements in reverse order."
   ]
  },
  {
   "cell_type": "code",
   "execution_count": 16,
   "metadata": {},
   "outputs": [
    {
     "data": {
      "text/plain": [
       "[56, 67, 435, 82, 7, 5, 5, 8, 7, 6, 4, 3]"
      ]
     },
     "execution_count": 16,
     "metadata": {},
     "output_type": "execute_result"
    }
   ],
   "source": [
    "def reversed_list(number_list: list[int]) -> list[int]:\n",
    "    return number_list[::-1]\n",
    "\n",
    "number_list = [3, 4, 6, 7, 8, 5, 5, 7, 82, 435, 67, 56]\n",
    "reversed_list(number_list=number_list)"
   ]
  },
  {
   "cell_type": "markdown",
   "metadata": {},
   "source": [
    "    Advanced"
   ]
  },
  {
   "cell_type": "markdown",
   "metadata": {},
   "source": [
    "1. Write a function that takes a list of strings and returns a new list with only the strings that are palindromes (i.e. they read the same \tforwards and backwards)."
   ]
  },
  {
   "cell_type": "code",
   "execution_count": 1,
   "metadata": {},
   "outputs": [
    {
     "name": "stdout",
     "output_type": "stream",
     "text": [
      "['level', 'radar', 'deified', 'madam', 'refer']\n"
     ]
    }
   ],
   "source": [
    "def reverse_string(string):\n",
    "    reversed_string = ''\n",
    "    for char in string:\n",
    "        reversed_string = char + reversed_string\n",
    "    return reversed_string\n",
    "\n",
    "def finding_palindrome_string(strings:list[str])-> list[str]:\n",
    "    palindrome_string =[]\n",
    "    for string in strings:\n",
    "        if string == reverse_string(string):\n",
    "            palindrome_string.append(string)\n",
    "\n",
    "    return palindrome_string\n",
    "\n",
    "\n",
    "list_string = [\n",
    "    \"level\",\n",
    "    \"radar\",\n",
    "    \"deified\",\n",
    "    \"madam\",\n",
    "    \"refer\",\n",
    "    \"hello\",\n",
    "    \"world\",\n",
    "    \"apple\",\n",
    "    \"openai\",\n",
    "    \"computer\"\n",
    "]\n",
    "\n",
    "print(finding_palindrome_string(list_string))"
   ]
  },
  {
   "cell_type": "markdown",
   "metadata": {},
   "source": [
    "2. Write a function that takes a string as input and returns a list of all possible substrings of the string.\n"
   ]
  },
  {
   "cell_type": "code",
   "execution_count": 5,
   "metadata": {},
   "outputs": [
    {
     "name": "stdout",
     "output_type": "stream",
     "text": [
      "['b', 'a', 'b', 'u', 'r', 'a', 'm', 's', 'h', 'r', 'e', 's', 't', 'h', 'a', 'ba', 'ab', 'bu', 'ur', 'ra', 'am', 'ms', 'sh', 'hr', 're', 'es', 'st', 'th', 'ha', 'bab', 'abu', 'bur', 'ura', 'ram', 'ams', 'msh', 'shr', 'hre', 'res', 'est', 'sth', 'tha', 'babu', 'abur', 'bura', 'uram', 'rams', 'amsh', 'mshr', 'shre', 'hres', 'rest', 'esth', 'stha', 'babur', 'abura', 'buram', 'urams', 'ramsh', 'amshr', 'mshre', 'shres', 'hrest', 'resth', 'estha', 'babura', 'aburam', 'burams', 'uramsh', 'ramshr', 'amshre', 'mshres', 'shrest', 'hresth', 'restha', 'baburam', 'aburams', 'buramsh', 'uramshr', 'ramshre', 'amshres', 'mshrest', 'shresth', 'hrestha', 'baburams', 'aburamsh', 'buramshr', 'uramshre', 'ramshres', 'amshrest', 'mshresth', 'shrestha', 'baburamsh', 'aburamshr', 'buramshre', 'uramshres', 'ramshrest', 'amshresth', 'mshrestha', 'baburamshr', 'aburamshre', 'buramshres', 'uramshrest', 'ramshresth', 'amshrestha', 'baburamshre', 'aburamshres', 'buramshrest', 'uramshresth', 'ramshrestha', 'baburamshres', 'aburamshrest', 'buramshresth', 'uramshrestha', 'baburamshrest', 'aburamshresth', 'buramshrestha', 'baburamshresth', 'aburamshrestha', 'baburamshrestha']\n"
     ]
    }
   ],
   "source": [
    "def all_possible_substrings(strings:str)-> list[str]:\n",
    "    substrings = []\n",
    "\n",
    "    for length in range(1, len(string) + 1):\n",
    "        for start in range(len(string) - length + 1):\n",
    "            end = start + length\n",
    "            substrings.append(string[start:end])\n",
    "    return substrings\n",
    "\n",
    "string = 'baburamshrestha'\n",
    "\n",
    "print(all_possible_substrings(string))"
   ]
  },
  {
   "cell_type": "markdown",
   "metadata": {},
   "source": [
    "3. Write a function that takes two matrices (lists of lists) as input and returns the product of the matrices (if possible).\n"
   ]
  },
  {
   "cell_type": "code",
   "execution_count": 9,
   "metadata": {},
   "outputs": [
    {
     "name": "stdout",
     "output_type": "stream",
     "text": [
      "[[30, 29, 44], [66, 71, 101], [102, 113, 158]]\n"
     ]
    }
   ],
   "source": [
    "def matrix_product(matrix1, matrix2):\n",
    "    rows1, cols1 = len(matrix1), len(matrix1[0])\n",
    "    rows2, cols2 = len(matrix2), len(matrix2[0])\n",
    "\n",
    "    if cols1 != rows2:\n",
    "        raise ValueError(\"Column of First Metric != Row of Second Metric\")\n",
    "\n",
    "    # creating cols1 x rows2 sized Null metric\n",
    "    result = [[0 for _ in range(cols2)] for _ in range(rows1)] \n",
    "\n",
    "    for i in range(rows1):\n",
    "        for j in range(cols2):\n",
    "            for k in range(cols1):\n",
    "                result[i][j] += matrix1[i][k] * matrix2[k][j]\n",
    "\n",
    "    return result\n",
    "\n",
    "matrix1 = [\n",
    "    [1, 2, 3],\n",
    "    [4, 5, 6],\n",
    "    [7, 8, 9]\n",
    "]\n",
    "\n",
    "\n",
    "matrix2 = [\n",
    "    [1, 4, 3],\n",
    "    [4, 5, 7],\n",
    "    [7, 5, 9]\n",
    "]\n",
    "\n",
    "result = matrix_product(matrix1, matrix2)\n",
    "print(result)\n"
   ]
  }
 ],
 "metadata": {
  "kernelspec": {
   "display_name": "scraping",
   "language": "python",
   "name": "python3"
  },
  "language_info": {
   "codemirror_mode": {
    "name": "ipython",
    "version": 3
   },
   "file_extension": ".py",
   "mimetype": "text/x-python",
   "name": "python",
   "nbconvert_exporter": "python",
   "pygments_lexer": "ipython3",
   "version": "3.10.12"
  },
  "orig_nbformat": 4
 },
 "nbformat": 4,
 "nbformat_minor": 2
}
