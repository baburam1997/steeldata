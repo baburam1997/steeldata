{
 "cells": [
  {
   "cell_type": "markdown",
   "metadata": {},
   "source": [
    "    Beginner"
   ]
  },
  {
   "cell_type": "markdown",
   "metadata": {},
   "source": [
    "1. Write a function that takes a string as input and returns the number of words in the string.\n"
   ]
  },
  {
   "cell_type": "code",
   "execution_count": 5,
   "metadata": {},
   "outputs": [
    {
     "data": {
      "text/plain": [
       "18"
      ]
     },
     "execution_count": 5,
     "metadata": {},
     "output_type": "execute_result"
    }
   ],
   "source": [
    "def word_count(strings: str)->int:\n",
    "    word_counter_list = strings.split(\" \")\n",
    "\n",
    "    return len(word_counter_list)\n",
    "\n",
    "strings = \"Write a function that takes a string as input and returns the number of words in the string.\"\n",
    "word_count(strings=strings)"
   ]
  },
  {
   "cell_type": "code",
   "execution_count": 6,
   "metadata": {},
   "outputs": [
    {
     "data": {
      "text/plain": [
       "Counter({'a': 2,\n",
       "         'string': 2,\n",
       "         'the': 2,\n",
       "         'write': 1,\n",
       "         'function': 1,\n",
       "         'that': 1,\n",
       "         'takes': 1,\n",
       "         'as': 1,\n",
       "         'input': 1,\n",
       "         'and': 1,\n",
       "         'returns': 1,\n",
       "         'number': 1,\n",
       "         'of': 1,\n",
       "         'words': 1,\n",
       "         'in': 1})"
      ]
     },
     "execution_count": 6,
     "metadata": {},
     "output_type": "execute_result"
    }
   ],
   "source": [
    "from collections import Counter\n",
    "import re\n",
    "def word_count(strings: str)->int:\n",
    "    words = re.findall(r'\\w+', strings.lower())\n",
    "    word_count = Counter(words)\n",
    "    return word_count\n",
    "strings = \"Write a function that takes a string as input and returns the number of words in the string.\"\n",
    "word_count(strings=strings)"
   ]
  },
  {
   "cell_type": "markdown",
   "metadata": {},
   "source": [
    "2. Write a function that takes a list of integers as input and returns the sum of the even numbers in the list.\n",
    "\n",
    "\t"
   ]
  },
  {
   "cell_type": "code",
   "execution_count": 15,
   "metadata": {},
   "outputs": [
    {
     "data": {
      "text/plain": [
       "342"
      ]
     },
     "execution_count": 15,
     "metadata": {},
     "output_type": "execute_result"
    }
   ],
   "source": [
    "def sum_of_even_in_list(merged_numbers: list[int])-> int:\n",
    "    sum = 0\n",
    "    for array_elem in merged_numbers:\n",
    "        if array_elem % 2 == 0:\n",
    "            sum += array_elem\n",
    "    return sum\n",
    "\n",
    "even_numbers = [x for x in range(2, 38, 2)]\n",
    "odd_numbers = [x for x in range(1, 41, 2)]\n",
    "\n",
    "merged_numbers = [item for pair in zip(even_numbers, odd_numbers) for item in pair]\n",
    "sum_of_even_in_list(merged_numbers = merged_numbers)"
   ]
  },
  {
   "cell_type": "markdown",
   "metadata": {},
   "source": [
    "3. Write a function that takes two strings as input and returns True if they are anagrams (i.e. they contain the same letters in a different order), False otherwise.\n",
    "\n",
    "\t"
   ]
  },
  {
   "cell_type": "code",
   "execution_count": 19,
   "metadata": {},
   "outputs": [
    {
     "data": {
      "text/plain": [
       "True"
      ]
     },
     "execution_count": 19,
     "metadata": {},
     "output_type": "execute_result"
    }
   ],
   "source": [
    "def are_anagrams(string1: str, string2: str)-> bool:\n",
    "    if sorted(string1.lower()) == sorted(string2.lower()):\n",
    "        return True\n",
    "    return False\n",
    "\n",
    "string1 = \"listen\"\n",
    "string2 = \"silent\"\n",
    "are_anagrams(string1 = string1, string2 = string2)"
   ]
  },
  {
   "cell_type": "markdown",
   "metadata": {},
   "source": [
    "    Intermediate"
   ]
  },
  {
   "cell_type": "markdown",
   "metadata": {},
   "source": [
    "1. Write a function that takes a list of strings as input and returns a new list with only the strings that start with a vowel.\n"
   ]
  },
  {
   "cell_type": "code",
   "execution_count": 23,
   "metadata": {},
   "outputs": [
    {
     "data": {
      "text/plain": [
       "['apple', 'elderberry', 'orange', 'umbrella']"
      ]
     },
     "execution_count": 23,
     "metadata": {},
     "output_type": "execute_result"
    }
   ],
   "source": [
    "def list_of_string_start_with_vowel(string_list: list[str]) -> list [str]:\n",
    "    vowels = \"aeiouAEIOU\"\n",
    "    vowel_list =[]\n",
    "    for string in string_list:\n",
    "        if string[0] in vowels:\n",
    "            vowel_list.append(string)\n",
    "    return vowel_list\n",
    "\n",
    "string_list = [\n",
    "    \"apple\",\n",
    "    \"banana\",\n",
    "    \"cherry\",\n",
    "    \"date\",\n",
    "    \"elderberry\",\n",
    "    \"fig\",\n",
    "    \"grape\",\n",
    "    \"honeydew\",\n",
    "    \"kiwi\",\n",
    "    \"orange\",\n",
    "    \"umbrella\",\n",
    "    \"lemon\"\n",
    "]\n",
    "list_of_string_start_with_vowel(string_list= string_list)"
   ]
  },
  {
   "cell_type": "markdown",
   "metadata": {},
   "source": [
    "2. Write a function that takes a list of integers as input and returns a new list with the elements sorted in descending order.\n"
   ]
  },
  {
   "cell_type": "code",
   "execution_count": 28,
   "metadata": {},
   "outputs": [
    {
     "data": {
      "text/plain": [
       "[94,\n",
       " 88,\n",
       " 86,\n",
       " 80,\n",
       " 74,\n",
       " 73,\n",
       " 72,\n",
       " 69,\n",
       " 63,\n",
       " 59,\n",
       " 58,\n",
       " 51,\n",
       " 45,\n",
       " 42,\n",
       " 39,\n",
       " 36,\n",
       " 34,\n",
       " 33,\n",
       " 30,\n",
       " 21,\n",
       " 14,\n",
       " 6,\n",
       " 2]"
      ]
     },
     "execution_count": 28,
     "metadata": {},
     "output_type": "execute_result"
    }
   ],
   "source": [
    "import random\n",
    "def sorted_number(numbers: list[int])-> list[int]:\n",
    "    descending_order = sorted(numbers,reverse = True)\n",
    "    return descending_order\n",
    "\n",
    "\n",
    "numbers = [random.randint(1, 100) for _ in range(23)]\n",
    "\n",
    "sorted_number(numbers = numbers)\n",
    "\n"
   ]
  },
  {
   "cell_type": "markdown",
   "metadata": {},
   "source": [
    "3. Write a function that takes a string as input and returns True if it is a palindrome, False otherwise.\n"
   ]
  },
  {
   "cell_type": "code",
   "execution_count": 32,
   "metadata": {},
   "outputs": [
    {
     "data": {
      "text/plain": [
       "True"
      ]
     },
     "execution_count": 32,
     "metadata": {},
     "output_type": "execute_result"
    }
   ],
   "source": [
    "# The isalnum() method is a built-in string method in Python that \n",
    "# checks if all characters in a string are alphanumeric (composed of letters and/or digits) and \n",
    "# returns True if they are, or False if they are not.\n",
    "def is_palindrome(string: str)-> bool:\n",
    "    cleaned_string = ''.join(char.lower() for char in string if char.isalnum())\n",
    "    if cleaned_string == cleaned_string[::-1]:\n",
    "        return True\n",
    "    return False\n",
    "string =\"A man, a plan, a canal, Panama!\"\n",
    "is_palindrome(string= string) "
   ]
  },
  {
   "cell_type": "markdown",
   "metadata": {},
   "source": [
    "    Advanced"
   ]
  },
  {
   "cell_type": "markdown",
   "metadata": {},
   "source": [
    "1. Write a function that takes a list of strings as input and returns a new list with only the strings that are anagrams of at least one other string in the list.\n"
   ]
  },
  {
   "cell_type": "code",
   "execution_count": 41,
   "metadata": {},
   "outputs": [
    {
     "data": {
      "text/plain": [
       "['listen', 'silent', 'pear', 'reap', 'top', 'pot']"
      ]
     },
     "execution_count": 41,
     "metadata": {},
     "output_type": "execute_result"
    }
   ],
   "source": [
    "def are_anagrams(string1: str, string2: str)-> bool:\n",
    "    if sorted(string1.lower()) == sorted(string2.lower()):\n",
    "        return True\n",
    "    return False\n",
    "def find_anagrams(string_list: list[str])-> list[str]:\n",
    "    anagram_groups = []\n",
    "    \n",
    "    for i, string1 in enumerate(string_list):\n",
    "        anagram_group = [string1]\n",
    "        \n",
    "        for j, string2 in enumerate(string_list[i+1:], start=i+1):\n",
    "            if are_anagrams(string1, string2):\n",
    "                anagram_group.append(string2)\n",
    "        \n",
    "        if len(anagram_group) > 1 and anagram_group not in anagram_groups:\n",
    "            anagram_groups.append(anagram_group)\n",
    "    \n",
    "    anagram_strings = [string for group in anagram_groups for string in group]\n",
    "    \n",
    "    return anagram_strings\n",
    "\n",
    "input_list = [\"listen\", \"silent\", \"apple\", \"pale\", \"pear\", \"reap\", \"top\", \"pot\"]\n",
    "find_anagrams(input_list)"
   ]
  },
  {
   "cell_type": "markdown",
   "metadata": {},
   "source": [
    "2. Write a function that takes a list of dictionaries as input and returns a new list with only the dictionaries that contain a certain key-value pair.\n"
   ]
  },
  {
   "cell_type": "code",
   "execution_count": 45,
   "metadata": {},
   "outputs": [
    {
     "data": {
      "text/plain": [
       "[{'name': 'Alice', 'age': 25}, {'name': 'David', 'age': 25}]"
      ]
     },
     "execution_count": 45,
     "metadata": {},
     "output_type": "execute_result"
    }
   ],
   "source": [
    "def filter_dictionaries(dictionary: list[dict], key: str, value: int)-> list[dict]:\n",
    "    result_list = [dic for dic in dictionary if key in dic and dic[key] == value]\n",
    "    return result_list\n",
    "\n",
    "dictionary = [\n",
    "    {\"name\": \"Alice\", \"age\": 25},\n",
    "    {\"name\": \"Bob\", \"age\": 30},\n",
    "    {\"name\": \"Charlie\", \"age\": 28},\n",
    "    {\"name\": \"David\", \"age\": 25},\n",
    "]\n",
    "\n",
    "key_to_search = \"age\"\n",
    "value_to_search = 25\n",
    "\n",
    "filter_dictionaries(dictionary, key_to_search, value_to_search)\n"
   ]
  },
  {
   "cell_type": "markdown",
   "metadata": {},
   "source": [
    "3. Write a function that takes a list of integers as input and returns a new list with only the numbers that can be expressed as the product of two distinct prime numbers.\n"
   ]
  },
  {
   "cell_type": "code",
   "execution_count": 47,
   "metadata": {},
   "outputs": [
    {
     "data": {
      "text/plain": [
       "[6, 15, 35, 55, 77, 91]"
      ]
     },
     "execution_count": 47,
     "metadata": {},
     "output_type": "execute_result"
    }
   ],
   "source": [
    "def is_prime(number: int)-> bool:\n",
    "    if number <= 1:\n",
    "        return False\n",
    "    for i in range(2, int(number ** 0.5) + 1):\n",
    "        if number % i == 0:\n",
    "            return False\n",
    "    return True\n",
    "\n",
    "def distinct_prime_product(numbers: list[int])-> list[int]:\n",
    "    prime_product = []\n",
    "\n",
    "    for number in numbers:\n",
    "        for i in range(2, number):\n",
    "            if is_prime(i) and number % i == 0:\n",
    "                j = number // i\n",
    "                if is_prime(j) and i != j:\n",
    "                    prime_product.append(number)\n",
    "                    break\n",
    "\n",
    "    return prime_product\n",
    "\n",
    "numbers = [6, 15, 28, 35, 49, 55, 77, 91, 100]\n",
    "distinct_prime_product(numbers)\n",
    "\n"
   ]
  },
  {
   "cell_type": "markdown",
   "metadata": {},
   "source": [
    "4. Create a text-based adventure game that uses ASCII art\n"
   ]
  },
  {
   "cell_type": "code",
   "execution_count": 53,
   "metadata": {},
   "outputs": [
    {
     "name": "stdout",
     "output_type": "stream",
     "text": [
      "Welcome to the ASCII Adventure Game!\n",
      "\n",
      "             /            /             /              /______         |        |\n",
      "         |  \\   / |\n",
      "         |   ()   |\n",
      "         |        |\n",
      "          \\______/\n",
      "    \n",
      "You find yourself in a dark forest.\n",
      "You see two paths ahead: 'left' or 'right'.\n",
      "You follow the left path and encounter a river.\n",
      "A boat is available to cross the river.\n",
      "As you row the boat, you spot a treasure chest on a small island.\n",
      "You decide not to open the chest and continue your journey.\n",
      "Thanks for playing the ASCII Adventure Game!\n"
     ]
    }
   ],
   "source": [
    "def print_ascii_art(art):\n",
    "    print(art)\n",
    "\n",
    "def start_game():\n",
    "    print(\"Welcome to the ASCII Adventure Game!\")\n",
    "    print_ascii_art(\"\"\"\n",
    "             /\\\n",
    "            /  \\\n",
    "           /    \\\n",
    "          /______\\\n",
    "         |        |\n",
    "         |  \\   / |\n",
    "         |   ()   |\n",
    "         |        |\n",
    "          \\______/\n",
    "    \"\"\")\n",
    "    input(\"Press Enter to continue...\")\n",
    "    \n",
    "    print(\"You find yourself in a dark forest.\")\n",
    "    print(\"You see two paths ahead: 'left' or 'right'.\")\n",
    "\n",
    "    choice = input(\"Which path will you choose? \").lower()\n",
    "\n",
    "    if choice == \"left\":\n",
    "        print(\"You follow the left path and encounter a river.\")\n",
    "        print(\"A boat is available to cross the river.\")\n",
    "        print(\"As you row the boat, you spot a treasure chest on a small island.\")\n",
    "\n",
    "        treasure_choice = input(\"Do you want to open the chest? (yes/no) \").lower()\n",
    "\n",
    "        if treasure_choice == \"yes\":\n",
    "            print(\"Congratulations! You found the hidden treasure!\")\n",
    "        else:\n",
    "            print(\"You decide not to open the chest and continue your journey.\")\n",
    "\n",
    "    elif choice == \"right\":\n",
    "        print(\"You take the right path and come across a cave entrance.\")\n",
    "        print(\"As you enter the cave, you notice glowing mushrooms lighting the way.\")\n",
    "\n",
    "        encounter = input(\"You encounter a mysterious creature. Will you 'fight' or 'flee'? \").lower()\n",
    "\n",
    "        if encounter == \"fight\":\n",
    "            print(\"You bravely fight the creature and emerge victorious!\")\n",
    "        else:\n",
    "            print(\"You wisely choose to flee and return to the forest.\")\n",
    "\n",
    "    else:\n",
    "        print(\"You hesitate and make no decision. The adventure ends.\")\n",
    "\n",
    "    print(\"Thanks for playing the ASCII Adventure Game!\")\n",
    "\n",
    "if __name__ == \"__main__\":\n",
    "    start_game()\n"
   ]
  }
 ],
 "metadata": {
  "kernelspec": {
   "display_name": "scraping",
   "language": "python",
   "name": "python3"
  },
  "language_info": {
   "codemirror_mode": {
    "name": "ipython",
    "version": 3
   },
   "file_extension": ".py",
   "mimetype": "text/x-python",
   "name": "python",
   "nbconvert_exporter": "python",
   "pygments_lexer": "ipython3",
   "version": "3.10.12"
  },
  "orig_nbformat": 4
 },
 "nbformat": 4,
 "nbformat_minor": 2
}
