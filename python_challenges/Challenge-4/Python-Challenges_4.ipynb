{
 "cells": [
  {
   "cell_type": "markdown",
   "metadata": {},
   "source": [
    "    Beginner"
   ]
  },
  {
   "cell_type": "markdown",
   "metadata": {},
   "source": [
    "1. Write a function that takes a list of integers as input and returns the average of the numbers in the list."
   ]
  },
  {
   "cell_type": "code",
   "execution_count": 1,
   "metadata": {},
   "outputs": [
    {
     "data": {
      "text/plain": [
       "11.5"
      ]
     },
     "execution_count": 1,
     "metadata": {},
     "output_type": "execute_result"
    }
   ],
   "source": [
    "def average_of_numbers(numbers: list[int])-> float:\n",
    "    return sum(numbers)/len(numbers)\n",
    "\n",
    "numbers = list(range(1, 25, 3))\n",
    "average_of_numbers(numbers=numbers)\n"
   ]
  },
  {
   "cell_type": "markdown",
   "metadata": {},
   "source": [
    "2. Write a function that takes a string as input and returns the string with all vowels removed.\n",
    "\t"
   ]
  },
  {
   "cell_type": "code",
   "execution_count": 5,
   "metadata": {},
   "outputs": [
    {
     "data": {
      "text/plain": [
       "'rthmtcrrr'"
      ]
     },
     "execution_count": 5,
     "metadata": {},
     "output_type": "execute_result"
    }
   ],
   "source": [
    "def vowel_remove(strings: str)-> str:\n",
    "    vowels = 'aeiouAEIOU'\n",
    "    consonents = ''\n",
    "    consonents += ''.join([char for char in strings if char not in vowels])\n",
    "\n",
    "    # for string in strings:\n",
    "    #     if string not in vowels:\n",
    "    #         consonents += string\n",
    "    return consonents\n",
    "\n",
    "strings = 'ArithmeticError'\n",
    "vowel_remove(strings=strings)\n"
   ]
  },
  {
   "cell_type": "markdown",
   "metadata": {},
   "source": [
    "3. Write a function that takes a list of strings as input and returns a new list with the strings sorted alphabetically.\n"
   ]
  },
  {
   "cell_type": "code",
   "execution_count": 9,
   "metadata": {},
   "outputs": [
    {
     "data": {
      "text/plain": [
       "['Ava',\n",
       " 'Daniel',\n",
       " 'Emily',\n",
       " 'Emma',\n",
       " 'James',\n",
       " 'John',\n",
       " 'Michael',\n",
       " 'Olivia',\n",
       " 'Sophia',\n",
       " 'William']"
      ]
     },
     "execution_count": 9,
     "metadata": {},
     "output_type": "execute_result"
    }
   ],
   "source": [
    "def list_sort(strings_list: list[str])->list[str]:\n",
    "    return sorted(strings_list)\n",
    "\n",
    "names = ['John', 'Emily', 'Michael', 'Sophia', 'William', 'Olivia', 'James', 'Ava', 'Daniel', 'Emma']\n",
    "list_sort(strings_list=names)"
   ]
  },
  {
   "cell_type": "markdown",
   "metadata": {},
   "source": [
    "    Intermediate"
   ]
  },
  {
   "cell_type": "markdown",
   "metadata": {},
   "source": [
    "1. Write a function that takes a list of tuples as input, where each tuple contains a string and an integer, and returns a new list of tuples sorted by the integer values.\n"
   ]
  },
  {
   "cell_type": "code",
   "execution_count": 14,
   "metadata": {},
   "outputs": [
    {
     "data": {
      "text/plain": [
       "[('Date', 2), ('Banana', 3), ('Apple', 5), ('Cherry', 8), ('Grape', 10)]"
      ]
     },
     "execution_count": 14,
     "metadata": {},
     "output_type": "execute_result"
    }
   ],
   "source": [
    "def sort_tuples_by_integer(list_tuple):\n",
    "    return sorted(list_tuple, key = lambda x: x[1])\n",
    "\n",
    "list_tuple = [\n",
    "    ('Apple', 5),\n",
    "    ('Banana', 3),\n",
    "    ('Cherry', 8),\n",
    "    ('Date', 2),\n",
    "    ('Grape', 10)\n",
    "]\n",
    "\n",
    "sort_tuples_by_integer(list_tuple)\n"
   ]
  },
  {
   "cell_type": "markdown",
   "metadata": {},
   "source": [
    "2. Write a function that takes a list of strings as input and returns a new list with only the strings that contain at least one uppercase letter.\n"
   ]
  },
  {
   "cell_type": "code",
   "execution_count": 18,
   "metadata": {},
   "outputs": [
    {
     "data": {
      "text/plain": [
       "['johN', 'eMily', 'Michael', 'Olivia', 'daNiel', 'Emma']"
      ]
     },
     "execution_count": 18,
     "metadata": {},
     "output_type": "execute_result"
    }
   ],
   "source": [
    "def has_upppercase(strings_list: list[str])-> list[str]:\n",
    "    has_upppercase_list = []\n",
    "    for strings in strings_list:\n",
    "        if any(char.isupper() for char in strings):\n",
    "            has_upppercase_list.append(strings)\n",
    "    return has_upppercase_list\n",
    "\n",
    "names = ['johN', 'eMily', 'Michael', 'sophia', 'william', 'Olivia', 'james', 'ava', 'daNiel', 'Emma']\n",
    "has_upppercase(strings_list=names)\n"
   ]
  },
  {
   "cell_type": "markdown",
   "metadata": {},
   "source": [
    "3. Write a function that takes a list of integers as input and returns the sum of the digits of all the numbers in the list.\n"
   ]
  },
  {
   "cell_type": "code",
   "execution_count": 23,
   "metadata": {},
   "outputs": [
    {
     "data": {
      "text/plain": [
       "[6, 9, 30, 2]"
      ]
     },
     "execution_count": 23,
     "metadata": {},
     "output_type": "execute_result"
    }
   ],
   "source": [
    "def sum_of_digits(numbers: list[int])-> list[int]:\n",
    "    # sum_list =[]\n",
    "    # for number in numbers:\n",
    "    #     number_sum = 0\n",
    "    #     for digit in str(number):\n",
    "    #         number_sum+= int(digit)\n",
    "    #     sum_list.append(number_sum)\n",
    "    sum_list = [sum(int(digit) for digit in str(number)) for number in numbers]\n",
    "    return sum_list\n",
    "numbers = [123, 45, 6789, 101] \n",
    "sum_of_digits(numbers)\n"
   ]
  },
  {
   "cell_type": "markdown",
   "metadata": {},
   "source": [
    "    Advanced"
   ]
  },
  {
   "cell_type": "markdown",
   "metadata": {},
   "source": [
    "1. Write a function that takes a list of dictionaries as input, where each dictionary represents a person with keys for name, age, and address, and  returns a new list of dictionaries sorted by age."
   ]
  },
  {
   "cell_type": "code",
   "execution_count": 27,
   "metadata": {},
   "outputs": [
    {
     "data": {
      "text/plain": [
       "[{'name': 'Michael', 'age': 22, 'address': '789 Oak St'},\n",
       " {'name': 'Emily', 'age': 25, 'address': '456 Elm St'},\n",
       " {'name': 'Sophia', 'age': 28, 'address': '321 Pine St'},\n",
       " {'name': 'John', 'age': 30, 'address': '123 Main St'},\n",
       " {'name': 'William', 'age': 35, 'address': '654 Maple St'}]"
      ]
     },
     "execution_count": 27,
     "metadata": {},
     "output_type": "execute_result"
    }
   ],
   "source": [
    "def sort_people_by_age(people_dict: dict)->dict:\n",
    "    sorted_people = sorted(people_dict, key = lambda person: person['age'])\n",
    "    return sorted_people\n",
    "\n",
    "\n",
    "people_dict = [\n",
    "    {'name': 'John', 'age': 30, 'address': '123 Main St'},\n",
    "    {'name': 'Emily', 'age': 25, 'address': '456 Elm St'},\n",
    "    {'name': 'Michael', 'age': 22, 'address': '789 Oak St'},\n",
    "    {'name': 'Sophia', 'age': 28, 'address': '321 Pine St'},\n",
    "    {'name': 'William', 'age': 35, 'address': '654 Maple St'},\n",
    "]\n",
    "\n",
    "sort_people_by_age(people_dict)"
   ]
  },
  {
   "cell_type": "markdown",
   "metadata": {},
   "source": [
    "2. Write a program that takes a list of strings as input and performs the following steps:\n",
    "\t- Remove any strings that contain non-alphabetic characters.\n",
    "\t- Convert all remaining strings to lowercase.\n",
    "\t- Sort the strings alphabetically.\n",
    "\t- Return the sorted list of strings."
   ]
  },
  {
   "cell_type": "code",
   "execution_count": 35,
   "metadata": {},
   "outputs": [
    {
     "data": {
      "text/plain": [
       "['ai', 'data', 'python', 'science']"
      ]
     },
     "execution_count": 35,
     "metadata": {},
     "output_type": "execute_result"
    }
   ],
   "source": [
    "def process_strings(strings: str)->list[str]:\n",
    "    # Remove strings with non-alphabetic characters\n",
    "    non_alphabetic_strings = [s for s in strings if s.isalpha()]\n",
    "    \n",
    "    # Convert strings to lowercase\n",
    "    lowercase_strings = [s.lower() for s in non_alphabetic_strings]\n",
    "    \n",
    "    # Sort the strings alphabetically\n",
    "    sorted_strings = sorted(lowercase_strings)\n",
    "    \n",
    "    return sorted_strings\n",
    "\n",
    "strings = [\"Baburam123\", \"123Shrestha\", \"Python\", \"Programming!\", \"AI\", \"Data\",\"Science\"]\n",
    "process_strings(strings)\n",
    "\n"
   ]
  },
  {
   "cell_type": "markdown",
   "metadata": {},
   "source": [
    "3. Write a program that takes a list of integers as input and performs the following steps:\n",
    "\t- Remove any integers that are not prime numbers.\n",
    "\t- Sort the remaining prime numbers in ascending order.\n",
    "\t- For each prime number, calculate the sum of the digits in the number.\n",
    "\t- Return a list of tuples, wdef is_prime(n):\n",
    "    return n > 1 and all(n % i != 0 for i in range(2, int(n ** 0.5) + 1))\n",
    "here each tuple contains the prime number and its corresponding sum of digits."
   ]
  },
  {
   "cell_type": "code",
   "execution_count": 37,
   "metadata": {},
   "outputs": [
    {
     "data": {
      "text/plain": [
       "[(2, 2), (11, 2), (17, 8), (23, 5), (31, 4), (37, 10)]"
      ]
     },
     "execution_count": 37,
     "metadata": {},
     "output_type": "execute_result"
    }
   ],
   "source": [
    "def is_prime(number):\n",
    "    return number > 1 and all(number % i != 0 for i in range(2, int(number ** 0.5) + 1))\n",
    "\n",
    "def sum_of_digits(number):\n",
    "    return sum(int(digit) for digit in str(number))\n",
    "\n",
    "def process_integers(numbers):\n",
    "    prime_numbers = [num for num in numbers if is_prime(num)]\n",
    "    sorted_primes = sorted(prime_numbers)\n",
    "    prime_sum_tuples = [(prime, sum_of_digits(prime)) for prime in sorted_primes]\n",
    "    return prime_sum_tuples\n",
    "\n",
    "numbers = [2, 6, 11, 17, 20, 23, 31, 37, 42]\n",
    "process_integers(numbers)\n"
   ]
  }
 ],
 "metadata": {
  "kernelspec": {
   "display_name": "scraping",
   "language": "python",
   "name": "python3"
  },
  "language_info": {
   "codemirror_mode": {
    "name": "ipython",
    "version": 3
   },
   "file_extension": ".py",
   "mimetype": "text/x-python",
   "name": "python",
   "nbconvert_exporter": "python",
   "pygments_lexer": "ipython3",
   "version": "3.10.12"
  },
  "orig_nbformat": 4
 },
 "nbformat": 4,
 "nbformat_minor": 2
}
